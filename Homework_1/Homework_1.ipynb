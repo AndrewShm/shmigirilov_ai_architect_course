{
  "nbformat": 4,
  "nbformat_minor": 0,
  "metadata": {
    "colab": {
      "provenance": []
    },
    "kernelspec": {
      "name": "python3",
      "display_name": "Python 3"
    },
    "language_info": {
      "name": "python"
    }
  },
  "cells": [
    {
      "cell_type": "code",
      "source": [
        "def mul_matrix(a, b):\n",
        "    m = len(a)                                            # a: m × n\n",
        "    n = len(b)                                            # b: n × k\n",
        "    k = len(b[0])\n",
        "\n",
        "    c = [[None for __ in range(k)] for __ in range(m)]    # c: m × k\n",
        "\n",
        "    for i in range(m):\n",
        "        for j in range(k):\n",
        "            c[i][j] = sum(a[i][kk] * b[kk][j] for kk in range(n))\n",
        "\n",
        "    print('Результат задачи', a, 'умножить на', b, 'равен', c)\n",
        "\n",
        "a = [[6, -8, 3]]\n",
        "b = [[1],\n",
        "     [1],\n",
        "     [4]]\n",
        "\n",
        "mul_matrix(a, b)\n",
        "\n",
        "a = [[-3, -7],\n",
        "     [-10, 6],\n",
        "     [0, -6],\n",
        "     [-1, -3]]\n",
        "\n",
        "b = [[-8, 9],\n",
        "     [4, -2]]\n",
        "\n",
        "mul_matrix(a, b)\n"
      ],
      "metadata": {
        "colab": {
          "base_uri": "https://localhost:8080/"
        },
        "id": "eDuKZGvgtnMj",
        "outputId": "083ca386-ee7e-490c-c3ad-8d9965ef0544"
      },
      "execution_count": null,
      "outputs": [
        {
          "output_type": "stream",
          "name": "stdout",
          "text": [
            "Результат задачи [[6, -8, 3]] умножить на [[1], [1], [4]] равен [[10]]\n",
            "Результат задачи [[-3, -7], [-10, 6], [0, -6], [-1, -3]] умножить на [[-8, 9], [4, -2]] равен [[-4, -13], [104, -102], [-24, 12], [-4, -3]]\n"
          ]
        }
      ]
    }
  ]
}