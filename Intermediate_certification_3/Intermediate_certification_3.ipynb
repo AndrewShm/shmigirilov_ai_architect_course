{
  "nbformat": 4,
  "nbformat_minor": 0,
  "metadata": {
    "colab": {
      "provenance": []
    },
    "kernelspec": {
      "name": "python3",
      "display_name": "Python 3"
    },
    "language_info": {
      "name": "python"
    }
  },
  "cells": [
    {
      "cell_type": "markdown",
      "source": [
        "Реализация QA системы при помощи TF-IDF"
      ],
      "metadata": {
        "id": "uiOkLo6nC_hF"
      }
    },
    {
      "cell_type": "code",
      "source": [
        "!pip install wikipedia"
      ],
      "metadata": {
        "colab": {
          "base_uri": "https://localhost:8080/"
        },
        "id": "PzJ9cGoE8xAr",
        "outputId": "cae42d0a-0c15-4a9f-9adb-fa9f0eea3f59"
      },
      "execution_count": 2,
      "outputs": [
        {
          "output_type": "stream",
          "name": "stdout",
          "text": [
            "Collecting wikipedia\n",
            "  Downloading wikipedia-1.4.0.tar.gz (27 kB)\n",
            "  Preparing metadata (setup.py) ... \u001b[?25l\u001b[?25hdone\n",
            "Requirement already satisfied: beautifulsoup4 in /usr/local/lib/python3.10/dist-packages (from wikipedia) (4.11.2)\n",
            "Requirement already satisfied: requests<3.0.0,>=2.0.0 in /usr/local/lib/python3.10/dist-packages (from wikipedia) (2.31.0)\n",
            "Requirement already satisfied: charset-normalizer<4,>=2 in /usr/local/lib/python3.10/dist-packages (from requests<3.0.0,>=2.0.0->wikipedia) (3.3.2)\n",
            "Requirement already satisfied: idna<4,>=2.5 in /usr/local/lib/python3.10/dist-packages (from requests<3.0.0,>=2.0.0->wikipedia) (3.4)\n",
            "Requirement already satisfied: urllib3<3,>=1.21.1 in /usr/local/lib/python3.10/dist-packages (from requests<3.0.0,>=2.0.0->wikipedia) (2.0.7)\n",
            "Requirement already satisfied: certifi>=2017.4.17 in /usr/local/lib/python3.10/dist-packages (from requests<3.0.0,>=2.0.0->wikipedia) (2023.7.22)\n",
            "Requirement already satisfied: soupsieve>1.2 in /usr/local/lib/python3.10/dist-packages (from beautifulsoup4->wikipedia) (2.5)\n",
            "Building wheels for collected packages: wikipedia\n",
            "  Building wheel for wikipedia (setup.py) ... \u001b[?25l\u001b[?25hdone\n",
            "  Created wheel for wikipedia: filename=wikipedia-1.4.0-py3-none-any.whl size=11679 sha256=f18dd491a169affacbe3853d32cab9262144f525522dd85ffc5f7e486135b014\n",
            "  Stored in directory: /root/.cache/pip/wheels/5e/b6/c5/93f3dec388ae76edc830cb42901bb0232504dfc0df02fc50de\n",
            "Successfully built wikipedia\n",
            "Installing collected packages: wikipedia\n",
            "Successfully installed wikipedia-1.4.0\n"
          ]
        }
      ]
    },
    {
      "cell_type": "code",
      "source": [
        "# пример вопроса\n",
        "# и пример ответов из википедии.\n",
        "import wikipedia as wiki\n",
        "\n",
        "k = 5\n",
        "question = \"What are the tourist hotspots in Portugal?\"\n",
        "\n",
        "results = wiki.search(question, results=k)\n",
        "print('Question:', question)\n",
        "print('Pages:  ', results)"
      ],
      "metadata": {
        "colab": {
          "base_uri": "https://localhost:8080/"
        },
        "id": "lOJnzibg8pUG",
        "outputId": "b494ee0c-c34b-4859-ec60-b0c2dbfe97c4"
      },
      "execution_count": 3,
      "outputs": [
        {
          "output_type": "stream",
          "name": "stdout",
          "text": [
            "Question: What are the tourist hotspots in Portugal?\n",
            "Pages:   ['Tourist attraction', 'Portugal', 'Porto', 'Goa', 'Algarve']\n"
          ]
        }
      ]
    },
    {
      "cell_type": "code",
      "source": [
        "import json\n",
        "import numpy as np\n",
        "import pandas as pd"
      ],
      "metadata": {
        "id": "eFaC4jKx0y0y"
      },
      "execution_count": 4,
      "outputs": []
    },
    {
      "cell_type": "code",
      "source": [
        "import zipfile # для распаковки датасета\n",
        "from google.colab import drive\n",
        "drive.mount('/content/drive/')\n",
        "\n",
        "# распаковка датасета\n",
        "file = '/content/drive/My Drive/Dataset/SQuAD.zip'\n",
        "with zipfile.ZipFile(file, mode='r') as archive:\n",
        "  archive.extractall()"
      ],
      "metadata": {
        "colab": {
          "base_uri": "https://localhost:8080/"
        },
        "id": "08Nd5ri22ZvC",
        "outputId": "ccf1da7a-b0af-4410-9cac-0e29cce6b0d3"
      },
      "execution_count": 5,
      "outputs": [
        {
          "output_type": "stream",
          "name": "stdout",
          "text": [
            "Mounted at /content/drive/\n"
          ]
        }
      ]
    },
    {
      "cell_type": "code",
      "source": [
        "def squad_json_to_dataframe(file_path, record_path=['data','paragraphs','qas','answers']):\n",
        "    \"\"\"\n",
        "    input_file_path: путь к json-файлу.\n",
        "    record_path: путь к самому глубокому уровню в json-файле, значение по умолчанию\n",
        "    ['data','paragraphs','qas','answers']\n",
        "    \"\"\"\n",
        "    file = json.loads(open(file_path).read())\n",
        "    # разбор различных уровней в json-файле\n",
        "    js = pd.json_normalize(file, record_path)\n",
        "    m = pd.json_normalize(file, record_path[:-1])\n",
        "    r = pd.json_normalize(file,record_path[:-2])\n",
        "    # объединение их в один датафрейм\n",
        "    idx = np.repeat(r['context'].values, r.qas.str.len())\n",
        "    m['context'] = idx\n",
        "    data = m[['id','question','context','answers']].set_index('id').reset_index()\n",
        "    data['c_id'] = data['context'].factorize()[0]\n",
        "    return data"
      ],
      "metadata": {
        "id": "s_f-9rge3WqO"
      },
      "execution_count": 6,
      "outputs": []
    },
    {
      "cell_type": "code",
      "source": [
        "file_path = '/content/train-v1.1.json'\n",
        "data = squad_json_to_dataframe(file_path)\n",
        "data"
      ],
      "metadata": {
        "colab": {
          "base_uri": "https://localhost:8080/",
          "height": 424
        },
        "id": "Ka2MnOrJ2uAb",
        "outputId": "be2cf5b5-2da5-47c5-ea60-b396f3361a92"
      },
      "execution_count": 7,
      "outputs": [
        {
          "output_type": "execute_result",
          "data": {
            "text/plain": [
              "                             id  \\\n",
              "0      5733be284776f41900661182   \n",
              "1      5733be284776f4190066117f   \n",
              "2      5733be284776f41900661180   \n",
              "3      5733be284776f41900661181   \n",
              "4      5733be284776f4190066117e   \n",
              "...                         ...   \n",
              "87594  5735d259012e2f140011a09d   \n",
              "87595  5735d259012e2f140011a09e   \n",
              "87596  5735d259012e2f140011a09f   \n",
              "87597  5735d259012e2f140011a0a0   \n",
              "87598  5735d259012e2f140011a0a1   \n",
              "\n",
              "                                                question  \\\n",
              "0      To whom did the Virgin Mary allegedly appear i...   \n",
              "1      What is in front of the Notre Dame Main Building?   \n",
              "2      The Basilica of the Sacred heart at Notre Dame...   \n",
              "3                      What is the Grotto at Notre Dame?   \n",
              "4      What sits on top of the Main Building at Notre...   \n",
              "...                                                  ...   \n",
              "87594  In what US state did Kathmandu first establish...   \n",
              "87595               What was Yangon previously known as?   \n",
              "87596  With what Belorussian city does Kathmandu have...   \n",
              "87597  In what year did Kathmandu create its initial ...   \n",
              "87598                      What is KMC an initialism of?   \n",
              "\n",
              "                                                 context  \\\n",
              "0      Architecturally, the school has a Catholic cha...   \n",
              "1      Architecturally, the school has a Catholic cha...   \n",
              "2      Architecturally, the school has a Catholic cha...   \n",
              "3      Architecturally, the school has a Catholic cha...   \n",
              "4      Architecturally, the school has a Catholic cha...   \n",
              "...                                                  ...   \n",
              "87594  Kathmandu Metropolitan City (KMC), in order to...   \n",
              "87595  Kathmandu Metropolitan City (KMC), in order to...   \n",
              "87596  Kathmandu Metropolitan City (KMC), in order to...   \n",
              "87597  Kathmandu Metropolitan City (KMC), in order to...   \n",
              "87598  Kathmandu Metropolitan City (KMC), in order to...   \n",
              "\n",
              "                                                 answers   c_id  \n",
              "0      [{'answer_start': 515, 'text': 'Saint Bernadet...      0  \n",
              "1      [{'answer_start': 188, 'text': 'a copper statu...      0  \n",
              "2      [{'answer_start': 279, 'text': 'the Main Build...      0  \n",
              "3      [{'answer_start': 381, 'text': 'a Marian place...      0  \n",
              "4      [{'answer_start': 92, 'text': 'a golden statue...      0  \n",
              "...                                                  ...    ...  \n",
              "87594          [{'answer_start': 229, 'text': 'Oregon'}]  18890  \n",
              "87595         [{'answer_start': 414, 'text': 'Rangoon'}]  18890  \n",
              "87596           [{'answer_start': 476, 'text': 'Minsk'}]  18890  \n",
              "87597            [{'answer_start': 199, 'text': '1975'}]  18890  \n",
              "87598  [{'answer_start': 0, 'text': 'Kathmandu Metrop...  18890  \n",
              "\n",
              "[87599 rows x 5 columns]"
            ],
            "text/html": [
              "\n",
              "  <div id=\"df-1397756f-66eb-47bb-9270-10c4b6349076\" class=\"colab-df-container\">\n",
              "    <div>\n",
              "<style scoped>\n",
              "    .dataframe tbody tr th:only-of-type {\n",
              "        vertical-align: middle;\n",
              "    }\n",
              "\n",
              "    .dataframe tbody tr th {\n",
              "        vertical-align: top;\n",
              "    }\n",
              "\n",
              "    .dataframe thead th {\n",
              "        text-align: right;\n",
              "    }\n",
              "</style>\n",
              "<table border=\"1\" class=\"dataframe\">\n",
              "  <thead>\n",
              "    <tr style=\"text-align: right;\">\n",
              "      <th></th>\n",
              "      <th>id</th>\n",
              "      <th>question</th>\n",
              "      <th>context</th>\n",
              "      <th>answers</th>\n",
              "      <th>c_id</th>\n",
              "    </tr>\n",
              "  </thead>\n",
              "  <tbody>\n",
              "    <tr>\n",
              "      <th>0</th>\n",
              "      <td>5733be284776f41900661182</td>\n",
              "      <td>To whom did the Virgin Mary allegedly appear i...</td>\n",
              "      <td>Architecturally, the school has a Catholic cha...</td>\n",
              "      <td>[{'answer_start': 515, 'text': 'Saint Bernadet...</td>\n",
              "      <td>0</td>\n",
              "    </tr>\n",
              "    <tr>\n",
              "      <th>1</th>\n",
              "      <td>5733be284776f4190066117f</td>\n",
              "      <td>What is in front of the Notre Dame Main Building?</td>\n",
              "      <td>Architecturally, the school has a Catholic cha...</td>\n",
              "      <td>[{'answer_start': 188, 'text': 'a copper statu...</td>\n",
              "      <td>0</td>\n",
              "    </tr>\n",
              "    <tr>\n",
              "      <th>2</th>\n",
              "      <td>5733be284776f41900661180</td>\n",
              "      <td>The Basilica of the Sacred heart at Notre Dame...</td>\n",
              "      <td>Architecturally, the school has a Catholic cha...</td>\n",
              "      <td>[{'answer_start': 279, 'text': 'the Main Build...</td>\n",
              "      <td>0</td>\n",
              "    </tr>\n",
              "    <tr>\n",
              "      <th>3</th>\n",
              "      <td>5733be284776f41900661181</td>\n",
              "      <td>What is the Grotto at Notre Dame?</td>\n",
              "      <td>Architecturally, the school has a Catholic cha...</td>\n",
              "      <td>[{'answer_start': 381, 'text': 'a Marian place...</td>\n",
              "      <td>0</td>\n",
              "    </tr>\n",
              "    <tr>\n",
              "      <th>4</th>\n",
              "      <td>5733be284776f4190066117e</td>\n",
              "      <td>What sits on top of the Main Building at Notre...</td>\n",
              "      <td>Architecturally, the school has a Catholic cha...</td>\n",
              "      <td>[{'answer_start': 92, 'text': 'a golden statue...</td>\n",
              "      <td>0</td>\n",
              "    </tr>\n",
              "    <tr>\n",
              "      <th>...</th>\n",
              "      <td>...</td>\n",
              "      <td>...</td>\n",
              "      <td>...</td>\n",
              "      <td>...</td>\n",
              "      <td>...</td>\n",
              "    </tr>\n",
              "    <tr>\n",
              "      <th>87594</th>\n",
              "      <td>5735d259012e2f140011a09d</td>\n",
              "      <td>In what US state did Kathmandu first establish...</td>\n",
              "      <td>Kathmandu Metropolitan City (KMC), in order to...</td>\n",
              "      <td>[{'answer_start': 229, 'text': 'Oregon'}]</td>\n",
              "      <td>18890</td>\n",
              "    </tr>\n",
              "    <tr>\n",
              "      <th>87595</th>\n",
              "      <td>5735d259012e2f140011a09e</td>\n",
              "      <td>What was Yangon previously known as?</td>\n",
              "      <td>Kathmandu Metropolitan City (KMC), in order to...</td>\n",
              "      <td>[{'answer_start': 414, 'text': 'Rangoon'}]</td>\n",
              "      <td>18890</td>\n",
              "    </tr>\n",
              "    <tr>\n",
              "      <th>87596</th>\n",
              "      <td>5735d259012e2f140011a09f</td>\n",
              "      <td>With what Belorussian city does Kathmandu have...</td>\n",
              "      <td>Kathmandu Metropolitan City (KMC), in order to...</td>\n",
              "      <td>[{'answer_start': 476, 'text': 'Minsk'}]</td>\n",
              "      <td>18890</td>\n",
              "    </tr>\n",
              "    <tr>\n",
              "      <th>87597</th>\n",
              "      <td>5735d259012e2f140011a0a0</td>\n",
              "      <td>In what year did Kathmandu create its initial ...</td>\n",
              "      <td>Kathmandu Metropolitan City (KMC), in order to...</td>\n",
              "      <td>[{'answer_start': 199, 'text': '1975'}]</td>\n",
              "      <td>18890</td>\n",
              "    </tr>\n",
              "    <tr>\n",
              "      <th>87598</th>\n",
              "      <td>5735d259012e2f140011a0a1</td>\n",
              "      <td>What is KMC an initialism of?</td>\n",
              "      <td>Kathmandu Metropolitan City (KMC), in order to...</td>\n",
              "      <td>[{'answer_start': 0, 'text': 'Kathmandu Metrop...</td>\n",
              "      <td>18890</td>\n",
              "    </tr>\n",
              "  </tbody>\n",
              "</table>\n",
              "<p>87599 rows × 5 columns</p>\n",
              "</div>\n",
              "    <div class=\"colab-df-buttons\">\n",
              "\n",
              "  <div class=\"colab-df-container\">\n",
              "    <button class=\"colab-df-convert\" onclick=\"convertToInteractive('df-1397756f-66eb-47bb-9270-10c4b6349076')\"\n",
              "            title=\"Convert this dataframe to an interactive table.\"\n",
              "            style=\"display:none;\">\n",
              "\n",
              "  <svg xmlns=\"http://www.w3.org/2000/svg\" height=\"24px\" viewBox=\"0 -960 960 960\">\n",
              "    <path d=\"M120-120v-720h720v720H120Zm60-500h600v-160H180v160Zm220 220h160v-160H400v160Zm0 220h160v-160H400v160ZM180-400h160v-160H180v160Zm440 0h160v-160H620v160ZM180-180h160v-160H180v160Zm440 0h160v-160H620v160Z\"/>\n",
              "  </svg>\n",
              "    </button>\n",
              "\n",
              "  <style>\n",
              "    .colab-df-container {\n",
              "      display:flex;\n",
              "      gap: 12px;\n",
              "    }\n",
              "\n",
              "    .colab-df-convert {\n",
              "      background-color: #E8F0FE;\n",
              "      border: none;\n",
              "      border-radius: 50%;\n",
              "      cursor: pointer;\n",
              "      display: none;\n",
              "      fill: #1967D2;\n",
              "      height: 32px;\n",
              "      padding: 0 0 0 0;\n",
              "      width: 32px;\n",
              "    }\n",
              "\n",
              "    .colab-df-convert:hover {\n",
              "      background-color: #E2EBFA;\n",
              "      box-shadow: 0px 1px 2px rgba(60, 64, 67, 0.3), 0px 1px 3px 1px rgba(60, 64, 67, 0.15);\n",
              "      fill: #174EA6;\n",
              "    }\n",
              "\n",
              "    .colab-df-buttons div {\n",
              "      margin-bottom: 4px;\n",
              "    }\n",
              "\n",
              "    [theme=dark] .colab-df-convert {\n",
              "      background-color: #3B4455;\n",
              "      fill: #D2E3FC;\n",
              "    }\n",
              "\n",
              "    [theme=dark] .colab-df-convert:hover {\n",
              "      background-color: #434B5C;\n",
              "      box-shadow: 0px 1px 3px 1px rgba(0, 0, 0, 0.15);\n",
              "      filter: drop-shadow(0px 1px 2px rgba(0, 0, 0, 0.3));\n",
              "      fill: #FFFFFF;\n",
              "    }\n",
              "  </style>\n",
              "\n",
              "    <script>\n",
              "      const buttonEl =\n",
              "        document.querySelector('#df-1397756f-66eb-47bb-9270-10c4b6349076 button.colab-df-convert');\n",
              "      buttonEl.style.display =\n",
              "        google.colab.kernel.accessAllowed ? 'block' : 'none';\n",
              "\n",
              "      async function convertToInteractive(key) {\n",
              "        const element = document.querySelector('#df-1397756f-66eb-47bb-9270-10c4b6349076');\n",
              "        const dataTable =\n",
              "          await google.colab.kernel.invokeFunction('convertToInteractive',\n",
              "                                                    [key], {});\n",
              "        if (!dataTable) return;\n",
              "\n",
              "        const docLinkHtml = 'Like what you see? Visit the ' +\n",
              "          '<a target=\"_blank\" href=https://colab.research.google.com/notebooks/data_table.ipynb>data table notebook</a>'\n",
              "          + ' to learn more about interactive tables.';\n",
              "        element.innerHTML = '';\n",
              "        dataTable['output_type'] = 'display_data';\n",
              "        await google.colab.output.renderOutput(dataTable, element);\n",
              "        const docLink = document.createElement('div');\n",
              "        docLink.innerHTML = docLinkHtml;\n",
              "        element.appendChild(docLink);\n",
              "      }\n",
              "    </script>\n",
              "  </div>\n",
              "\n",
              "\n",
              "<div id=\"df-d0a7bf72-22b6-49be-a99c-bd6c1992f254\">\n",
              "  <button class=\"colab-df-quickchart\" onclick=\"quickchart('df-d0a7bf72-22b6-49be-a99c-bd6c1992f254')\"\n",
              "            title=\"Suggest charts\"\n",
              "            style=\"display:none;\">\n",
              "\n",
              "<svg xmlns=\"http://www.w3.org/2000/svg\" height=\"24px\"viewBox=\"0 0 24 24\"\n",
              "     width=\"24px\">\n",
              "    <g>\n",
              "        <path d=\"M19 3H5c-1.1 0-2 .9-2 2v14c0 1.1.9 2 2 2h14c1.1 0 2-.9 2-2V5c0-1.1-.9-2-2-2zM9 17H7v-7h2v7zm4 0h-2V7h2v10zm4 0h-2v-4h2v4z\"/>\n",
              "    </g>\n",
              "</svg>\n",
              "  </button>\n",
              "\n",
              "<style>\n",
              "  .colab-df-quickchart {\n",
              "      --bg-color: #E8F0FE;\n",
              "      --fill-color: #1967D2;\n",
              "      --hover-bg-color: #E2EBFA;\n",
              "      --hover-fill-color: #174EA6;\n",
              "      --disabled-fill-color: #AAA;\n",
              "      --disabled-bg-color: #DDD;\n",
              "  }\n",
              "\n",
              "  [theme=dark] .colab-df-quickchart {\n",
              "      --bg-color: #3B4455;\n",
              "      --fill-color: #D2E3FC;\n",
              "      --hover-bg-color: #434B5C;\n",
              "      --hover-fill-color: #FFFFFF;\n",
              "      --disabled-bg-color: #3B4455;\n",
              "      --disabled-fill-color: #666;\n",
              "  }\n",
              "\n",
              "  .colab-df-quickchart {\n",
              "    background-color: var(--bg-color);\n",
              "    border: none;\n",
              "    border-radius: 50%;\n",
              "    cursor: pointer;\n",
              "    display: none;\n",
              "    fill: var(--fill-color);\n",
              "    height: 32px;\n",
              "    padding: 0;\n",
              "    width: 32px;\n",
              "  }\n",
              "\n",
              "  .colab-df-quickchart:hover {\n",
              "    background-color: var(--hover-bg-color);\n",
              "    box-shadow: 0 1px 2px rgba(60, 64, 67, 0.3), 0 1px 3px 1px rgba(60, 64, 67, 0.15);\n",
              "    fill: var(--button-hover-fill-color);\n",
              "  }\n",
              "\n",
              "  .colab-df-quickchart-complete:disabled,\n",
              "  .colab-df-quickchart-complete:disabled:hover {\n",
              "    background-color: var(--disabled-bg-color);\n",
              "    fill: var(--disabled-fill-color);\n",
              "    box-shadow: none;\n",
              "  }\n",
              "\n",
              "  .colab-df-spinner {\n",
              "    border: 2px solid var(--fill-color);\n",
              "    border-color: transparent;\n",
              "    border-bottom-color: var(--fill-color);\n",
              "    animation:\n",
              "      spin 1s steps(1) infinite;\n",
              "  }\n",
              "\n",
              "  @keyframes spin {\n",
              "    0% {\n",
              "      border-color: transparent;\n",
              "      border-bottom-color: var(--fill-color);\n",
              "      border-left-color: var(--fill-color);\n",
              "    }\n",
              "    20% {\n",
              "      border-color: transparent;\n",
              "      border-left-color: var(--fill-color);\n",
              "      border-top-color: var(--fill-color);\n",
              "    }\n",
              "    30% {\n",
              "      border-color: transparent;\n",
              "      border-left-color: var(--fill-color);\n",
              "      border-top-color: var(--fill-color);\n",
              "      border-right-color: var(--fill-color);\n",
              "    }\n",
              "    40% {\n",
              "      border-color: transparent;\n",
              "      border-right-color: var(--fill-color);\n",
              "      border-top-color: var(--fill-color);\n",
              "    }\n",
              "    60% {\n",
              "      border-color: transparent;\n",
              "      border-right-color: var(--fill-color);\n",
              "    }\n",
              "    80% {\n",
              "      border-color: transparent;\n",
              "      border-right-color: var(--fill-color);\n",
              "      border-bottom-color: var(--fill-color);\n",
              "    }\n",
              "    90% {\n",
              "      border-color: transparent;\n",
              "      border-bottom-color: var(--fill-color);\n",
              "    }\n",
              "  }\n",
              "</style>\n",
              "\n",
              "  <script>\n",
              "    async function quickchart(key) {\n",
              "      const quickchartButtonEl =\n",
              "        document.querySelector('#' + key + ' button');\n",
              "      quickchartButtonEl.disabled = true;  // To prevent multiple clicks.\n",
              "      quickchartButtonEl.classList.add('colab-df-spinner');\n",
              "      try {\n",
              "        const charts = await google.colab.kernel.invokeFunction(\n",
              "            'suggestCharts', [key], {});\n",
              "      } catch (error) {\n",
              "        console.error('Error during call to suggestCharts:', error);\n",
              "      }\n",
              "      quickchartButtonEl.classList.remove('colab-df-spinner');\n",
              "      quickchartButtonEl.classList.add('colab-df-quickchart-complete');\n",
              "    }\n",
              "    (() => {\n",
              "      let quickchartButtonEl =\n",
              "        document.querySelector('#df-d0a7bf72-22b6-49be-a99c-bd6c1992f254 button');\n",
              "      quickchartButtonEl.style.display =\n",
              "        google.colab.kernel.accessAllowed ? 'block' : 'none';\n",
              "    })();\n",
              "  </script>\n",
              "</div>\n",
              "    </div>\n",
              "  </div>\n"
            ]
          },
          "metadata": {},
          "execution_count": 7
        }
      ]
    },
    {
      "cell_type": "code",
      "source": [
        "# Сколько у нас документов?\n",
        "data['c_id'].unique().size"
      ],
      "metadata": {
        "colab": {
          "base_uri": "https://localhost:8080/"
        },
        "id": "Y52i0twb4ZDR",
        "outputId": "aaf56e49-d355-4dc4-ddf4-cb95d2af63b4"
      },
      "execution_count": 8,
      "outputs": [
        {
          "output_type": "execute_result",
          "data": {
            "text/plain": [
              "18891"
            ]
          },
          "metadata": {},
          "execution_count": 8
        }
      ]
    },
    {
      "cell_type": "markdown",
      "source": [
        "**Получение уникальных документов**\n",
        "\n",
        "Выберем уникальные документы в наших данных. Это будет список документов для поиска ответов\n",
        "\n"
      ],
      "metadata": {
        "id": "4HNjvBFk4uCK"
      }
    },
    {
      "cell_type": "code",
      "source": [
        "documents = data[['context', 'c_id']].drop_duplicates().reset_index(drop=True)\n",
        "documents"
      ],
      "metadata": {
        "colab": {
          "base_uri": "https://localhost:8080/",
          "height": 424
        },
        "id": "ib6-LS2g4j7W",
        "outputId": "a1c78806-df8a-4c57-d06c-b2a0b8f11427"
      },
      "execution_count": 9,
      "outputs": [
        {
          "output_type": "execute_result",
          "data": {
            "text/plain": [
              "                                                 context   c_id\n",
              "0      Architecturally, the school has a Catholic cha...      0\n",
              "1      As at most other universities, Notre Dame's st...      1\n",
              "2      The university is the major seat of the Congre...      2\n",
              "3      The College of Engineering was established in ...      3\n",
              "4      All of Notre Dame's undergraduate students are...      4\n",
              "...                                                  ...    ...\n",
              "18886  Institute of Medicine, the central college of ...  18886\n",
              "18887  Football and Cricket are the most popular spor...  18887\n",
              "18888  The total length of roads in Nepal is recorded...  18888\n",
              "18889  The main international airport serving Kathman...  18889\n",
              "18890  Kathmandu Metropolitan City (KMC), in order to...  18890\n",
              "\n",
              "[18891 rows x 2 columns]"
            ],
            "text/html": [
              "\n",
              "  <div id=\"df-df397b17-1076-4730-9cea-f0cf4636ea2f\" class=\"colab-df-container\">\n",
              "    <div>\n",
              "<style scoped>\n",
              "    .dataframe tbody tr th:only-of-type {\n",
              "        vertical-align: middle;\n",
              "    }\n",
              "\n",
              "    .dataframe tbody tr th {\n",
              "        vertical-align: top;\n",
              "    }\n",
              "\n",
              "    .dataframe thead th {\n",
              "        text-align: right;\n",
              "    }\n",
              "</style>\n",
              "<table border=\"1\" class=\"dataframe\">\n",
              "  <thead>\n",
              "    <tr style=\"text-align: right;\">\n",
              "      <th></th>\n",
              "      <th>context</th>\n",
              "      <th>c_id</th>\n",
              "    </tr>\n",
              "  </thead>\n",
              "  <tbody>\n",
              "    <tr>\n",
              "      <th>0</th>\n",
              "      <td>Architecturally, the school has a Catholic cha...</td>\n",
              "      <td>0</td>\n",
              "    </tr>\n",
              "    <tr>\n",
              "      <th>1</th>\n",
              "      <td>As at most other universities, Notre Dame's st...</td>\n",
              "      <td>1</td>\n",
              "    </tr>\n",
              "    <tr>\n",
              "      <th>2</th>\n",
              "      <td>The university is the major seat of the Congre...</td>\n",
              "      <td>2</td>\n",
              "    </tr>\n",
              "    <tr>\n",
              "      <th>3</th>\n",
              "      <td>The College of Engineering was established in ...</td>\n",
              "      <td>3</td>\n",
              "    </tr>\n",
              "    <tr>\n",
              "      <th>4</th>\n",
              "      <td>All of Notre Dame's undergraduate students are...</td>\n",
              "      <td>4</td>\n",
              "    </tr>\n",
              "    <tr>\n",
              "      <th>...</th>\n",
              "      <td>...</td>\n",
              "      <td>...</td>\n",
              "    </tr>\n",
              "    <tr>\n",
              "      <th>18886</th>\n",
              "      <td>Institute of Medicine, the central college of ...</td>\n",
              "      <td>18886</td>\n",
              "    </tr>\n",
              "    <tr>\n",
              "      <th>18887</th>\n",
              "      <td>Football and Cricket are the most popular spor...</td>\n",
              "      <td>18887</td>\n",
              "    </tr>\n",
              "    <tr>\n",
              "      <th>18888</th>\n",
              "      <td>The total length of roads in Nepal is recorded...</td>\n",
              "      <td>18888</td>\n",
              "    </tr>\n",
              "    <tr>\n",
              "      <th>18889</th>\n",
              "      <td>The main international airport serving Kathman...</td>\n",
              "      <td>18889</td>\n",
              "    </tr>\n",
              "    <tr>\n",
              "      <th>18890</th>\n",
              "      <td>Kathmandu Metropolitan City (KMC), in order to...</td>\n",
              "      <td>18890</td>\n",
              "    </tr>\n",
              "  </tbody>\n",
              "</table>\n",
              "<p>18891 rows × 2 columns</p>\n",
              "</div>\n",
              "    <div class=\"colab-df-buttons\">\n",
              "\n",
              "  <div class=\"colab-df-container\">\n",
              "    <button class=\"colab-df-convert\" onclick=\"convertToInteractive('df-df397b17-1076-4730-9cea-f0cf4636ea2f')\"\n",
              "            title=\"Convert this dataframe to an interactive table.\"\n",
              "            style=\"display:none;\">\n",
              "\n",
              "  <svg xmlns=\"http://www.w3.org/2000/svg\" height=\"24px\" viewBox=\"0 -960 960 960\">\n",
              "    <path d=\"M120-120v-720h720v720H120Zm60-500h600v-160H180v160Zm220 220h160v-160H400v160Zm0 220h160v-160H400v160ZM180-400h160v-160H180v160Zm440 0h160v-160H620v160ZM180-180h160v-160H180v160Zm440 0h160v-160H620v160Z\"/>\n",
              "  </svg>\n",
              "    </button>\n",
              "\n",
              "  <style>\n",
              "    .colab-df-container {\n",
              "      display:flex;\n",
              "      gap: 12px;\n",
              "    }\n",
              "\n",
              "    .colab-df-convert {\n",
              "      background-color: #E8F0FE;\n",
              "      border: none;\n",
              "      border-radius: 50%;\n",
              "      cursor: pointer;\n",
              "      display: none;\n",
              "      fill: #1967D2;\n",
              "      height: 32px;\n",
              "      padding: 0 0 0 0;\n",
              "      width: 32px;\n",
              "    }\n",
              "\n",
              "    .colab-df-convert:hover {\n",
              "      background-color: #E2EBFA;\n",
              "      box-shadow: 0px 1px 2px rgba(60, 64, 67, 0.3), 0px 1px 3px 1px rgba(60, 64, 67, 0.15);\n",
              "      fill: #174EA6;\n",
              "    }\n",
              "\n",
              "    .colab-df-buttons div {\n",
              "      margin-bottom: 4px;\n",
              "    }\n",
              "\n",
              "    [theme=dark] .colab-df-convert {\n",
              "      background-color: #3B4455;\n",
              "      fill: #D2E3FC;\n",
              "    }\n",
              "\n",
              "    [theme=dark] .colab-df-convert:hover {\n",
              "      background-color: #434B5C;\n",
              "      box-shadow: 0px 1px 3px 1px rgba(0, 0, 0, 0.15);\n",
              "      filter: drop-shadow(0px 1px 2px rgba(0, 0, 0, 0.3));\n",
              "      fill: #FFFFFF;\n",
              "    }\n",
              "  </style>\n",
              "\n",
              "    <script>\n",
              "      const buttonEl =\n",
              "        document.querySelector('#df-df397b17-1076-4730-9cea-f0cf4636ea2f button.colab-df-convert');\n",
              "      buttonEl.style.display =\n",
              "        google.colab.kernel.accessAllowed ? 'block' : 'none';\n",
              "\n",
              "      async function convertToInteractive(key) {\n",
              "        const element = document.querySelector('#df-df397b17-1076-4730-9cea-f0cf4636ea2f');\n",
              "        const dataTable =\n",
              "          await google.colab.kernel.invokeFunction('convertToInteractive',\n",
              "                                                    [key], {});\n",
              "        if (!dataTable) return;\n",
              "\n",
              "        const docLinkHtml = 'Like what you see? Visit the ' +\n",
              "          '<a target=\"_blank\" href=https://colab.research.google.com/notebooks/data_table.ipynb>data table notebook</a>'\n",
              "          + ' to learn more about interactive tables.';\n",
              "        element.innerHTML = '';\n",
              "        dataTable['output_type'] = 'display_data';\n",
              "        await google.colab.output.renderOutput(dataTable, element);\n",
              "        const docLink = document.createElement('div');\n",
              "        docLink.innerHTML = docLinkHtml;\n",
              "        element.appendChild(docLink);\n",
              "      }\n",
              "    </script>\n",
              "  </div>\n",
              "\n",
              "\n",
              "<div id=\"df-e494bc59-aedc-40a3-aded-1f9d1f46199b\">\n",
              "  <button class=\"colab-df-quickchart\" onclick=\"quickchart('df-e494bc59-aedc-40a3-aded-1f9d1f46199b')\"\n",
              "            title=\"Suggest charts\"\n",
              "            style=\"display:none;\">\n",
              "\n",
              "<svg xmlns=\"http://www.w3.org/2000/svg\" height=\"24px\"viewBox=\"0 0 24 24\"\n",
              "     width=\"24px\">\n",
              "    <g>\n",
              "        <path d=\"M19 3H5c-1.1 0-2 .9-2 2v14c0 1.1.9 2 2 2h14c1.1 0 2-.9 2-2V5c0-1.1-.9-2-2-2zM9 17H7v-7h2v7zm4 0h-2V7h2v10zm4 0h-2v-4h2v4z\"/>\n",
              "    </g>\n",
              "</svg>\n",
              "  </button>\n",
              "\n",
              "<style>\n",
              "  .colab-df-quickchart {\n",
              "      --bg-color: #E8F0FE;\n",
              "      --fill-color: #1967D2;\n",
              "      --hover-bg-color: #E2EBFA;\n",
              "      --hover-fill-color: #174EA6;\n",
              "      --disabled-fill-color: #AAA;\n",
              "      --disabled-bg-color: #DDD;\n",
              "  }\n",
              "\n",
              "  [theme=dark] .colab-df-quickchart {\n",
              "      --bg-color: #3B4455;\n",
              "      --fill-color: #D2E3FC;\n",
              "      --hover-bg-color: #434B5C;\n",
              "      --hover-fill-color: #FFFFFF;\n",
              "      --disabled-bg-color: #3B4455;\n",
              "      --disabled-fill-color: #666;\n",
              "  }\n",
              "\n",
              "  .colab-df-quickchart {\n",
              "    background-color: var(--bg-color);\n",
              "    border: none;\n",
              "    border-radius: 50%;\n",
              "    cursor: pointer;\n",
              "    display: none;\n",
              "    fill: var(--fill-color);\n",
              "    height: 32px;\n",
              "    padding: 0;\n",
              "    width: 32px;\n",
              "  }\n",
              "\n",
              "  .colab-df-quickchart:hover {\n",
              "    background-color: var(--hover-bg-color);\n",
              "    box-shadow: 0 1px 2px rgba(60, 64, 67, 0.3), 0 1px 3px 1px rgba(60, 64, 67, 0.15);\n",
              "    fill: var(--button-hover-fill-color);\n",
              "  }\n",
              "\n",
              "  .colab-df-quickchart-complete:disabled,\n",
              "  .colab-df-quickchart-complete:disabled:hover {\n",
              "    background-color: var(--disabled-bg-color);\n",
              "    fill: var(--disabled-fill-color);\n",
              "    box-shadow: none;\n",
              "  }\n",
              "\n",
              "  .colab-df-spinner {\n",
              "    border: 2px solid var(--fill-color);\n",
              "    border-color: transparent;\n",
              "    border-bottom-color: var(--fill-color);\n",
              "    animation:\n",
              "      spin 1s steps(1) infinite;\n",
              "  }\n",
              "\n",
              "  @keyframes spin {\n",
              "    0% {\n",
              "      border-color: transparent;\n",
              "      border-bottom-color: var(--fill-color);\n",
              "      border-left-color: var(--fill-color);\n",
              "    }\n",
              "    20% {\n",
              "      border-color: transparent;\n",
              "      border-left-color: var(--fill-color);\n",
              "      border-top-color: var(--fill-color);\n",
              "    }\n",
              "    30% {\n",
              "      border-color: transparent;\n",
              "      border-left-color: var(--fill-color);\n",
              "      border-top-color: var(--fill-color);\n",
              "      border-right-color: var(--fill-color);\n",
              "    }\n",
              "    40% {\n",
              "      border-color: transparent;\n",
              "      border-right-color: var(--fill-color);\n",
              "      border-top-color: var(--fill-color);\n",
              "    }\n",
              "    60% {\n",
              "      border-color: transparent;\n",
              "      border-right-color: var(--fill-color);\n",
              "    }\n",
              "    80% {\n",
              "      border-color: transparent;\n",
              "      border-right-color: var(--fill-color);\n",
              "      border-bottom-color: var(--fill-color);\n",
              "    }\n",
              "    90% {\n",
              "      border-color: transparent;\n",
              "      border-bottom-color: var(--fill-color);\n",
              "    }\n",
              "  }\n",
              "</style>\n",
              "\n",
              "  <script>\n",
              "    async function quickchart(key) {\n",
              "      const quickchartButtonEl =\n",
              "        document.querySelector('#' + key + ' button');\n",
              "      quickchartButtonEl.disabled = true;  // To prevent multiple clicks.\n",
              "      quickchartButtonEl.classList.add('colab-df-spinner');\n",
              "      try {\n",
              "        const charts = await google.colab.kernel.invokeFunction(\n",
              "            'suggestCharts', [key], {});\n",
              "      } catch (error) {\n",
              "        console.error('Error during call to suggestCharts:', error);\n",
              "      }\n",
              "      quickchartButtonEl.classList.remove('colab-df-spinner');\n",
              "      quickchartButtonEl.classList.add('colab-df-quickchart-complete');\n",
              "    }\n",
              "    (() => {\n",
              "      let quickchartButtonEl =\n",
              "        document.querySelector('#df-e494bc59-aedc-40a3-aded-1f9d1f46199b button');\n",
              "      quickchartButtonEl.style.display =\n",
              "        google.colab.kernel.accessAllowed ? 'block' : 'none';\n",
              "    })();\n",
              "  </script>\n",
              "</div>\n",
              "    </div>\n",
              "  </div>\n"
            ]
          },
          "metadata": {},
          "execution_count": 9
        }
      ]
    },
    {
      "cell_type": "code",
      "source": [
        "from sklearn.feature_extraction.text import TfidfVectorizer\n",
        "from sklearn.neighbors import NearestNeighbors\n",
        "\n",
        "# определение TF-IDF\n",
        "tfidf_configs = {\n",
        "    'lowercase': True,\n",
        "    'analyzer': 'word',\n",
        "    'stop_words': 'english',\n",
        "    'binary': True,\n",
        "    'max_df': 0.9,\n",
        "    'max_features': 10_000\n",
        "}\n",
        "# определение количества документов для извлечения\n",
        "retriever_configs = {\n",
        "    'n_neighbors': 10,\n",
        "    'metric': 'cosine'\n",
        "}\n",
        "\n",
        "# определение нашего конвейера\n",
        "embedding = TfidfVectorizer(**tfidf_configs)\n",
        "retriever = NearestNeighbors(**retriever_configs)"
      ],
      "metadata": {
        "id": "2NHX3rAP6Trv"
      },
      "execution_count": 10,
      "outputs": []
    },
    {
      "cell_type": "code",
      "source": [
        "# Обучим модель получению идентификатора документа 'c_id'\n",
        "X = embedding.fit_transform(documents['context'])\n",
        "retriever.fit(X, documents['c_id'])"
      ],
      "metadata": {
        "colab": {
          "base_uri": "https://localhost:8080/",
          "height": 75
        },
        "id": "fEUfpL-Q9b5z",
        "outputId": "cbd551e1-da24-4253-a369-94eb79b4a1e8"
      },
      "execution_count": 11,
      "outputs": [
        {
          "output_type": "execute_result",
          "data": {
            "text/plain": [
              "NearestNeighbors(metric='cosine', n_neighbors=10)"
            ],
            "text/html": [
              "<style>#sk-container-id-1 {color: black;background-color: white;}#sk-container-id-1 pre{padding: 0;}#sk-container-id-1 div.sk-toggleable {background-color: white;}#sk-container-id-1 label.sk-toggleable__label {cursor: pointer;display: block;width: 100%;margin-bottom: 0;padding: 0.3em;box-sizing: border-box;text-align: center;}#sk-container-id-1 label.sk-toggleable__label-arrow:before {content: \"▸\";float: left;margin-right: 0.25em;color: #696969;}#sk-container-id-1 label.sk-toggleable__label-arrow:hover:before {color: black;}#sk-container-id-1 div.sk-estimator:hover label.sk-toggleable__label-arrow:before {color: black;}#sk-container-id-1 div.sk-toggleable__content {max-height: 0;max-width: 0;overflow: hidden;text-align: left;background-color: #f0f8ff;}#sk-container-id-1 div.sk-toggleable__content pre {margin: 0.2em;color: black;border-radius: 0.25em;background-color: #f0f8ff;}#sk-container-id-1 input.sk-toggleable__control:checked~div.sk-toggleable__content {max-height: 200px;max-width: 100%;overflow: auto;}#sk-container-id-1 input.sk-toggleable__control:checked~label.sk-toggleable__label-arrow:before {content: \"▾\";}#sk-container-id-1 div.sk-estimator input.sk-toggleable__control:checked~label.sk-toggleable__label {background-color: #d4ebff;}#sk-container-id-1 div.sk-label input.sk-toggleable__control:checked~label.sk-toggleable__label {background-color: #d4ebff;}#sk-container-id-1 input.sk-hidden--visually {border: 0;clip: rect(1px 1px 1px 1px);clip: rect(1px, 1px, 1px, 1px);height: 1px;margin: -1px;overflow: hidden;padding: 0;position: absolute;width: 1px;}#sk-container-id-1 div.sk-estimator {font-family: monospace;background-color: #f0f8ff;border: 1px dotted black;border-radius: 0.25em;box-sizing: border-box;margin-bottom: 0.5em;}#sk-container-id-1 div.sk-estimator:hover {background-color: #d4ebff;}#sk-container-id-1 div.sk-parallel-item::after {content: \"\";width: 100%;border-bottom: 1px solid gray;flex-grow: 1;}#sk-container-id-1 div.sk-label:hover label.sk-toggleable__label {background-color: #d4ebff;}#sk-container-id-1 div.sk-serial::before {content: \"\";position: absolute;border-left: 1px solid gray;box-sizing: border-box;top: 0;bottom: 0;left: 50%;z-index: 0;}#sk-container-id-1 div.sk-serial {display: flex;flex-direction: column;align-items: center;background-color: white;padding-right: 0.2em;padding-left: 0.2em;position: relative;}#sk-container-id-1 div.sk-item {position: relative;z-index: 1;}#sk-container-id-1 div.sk-parallel {display: flex;align-items: stretch;justify-content: center;background-color: white;position: relative;}#sk-container-id-1 div.sk-item::before, #sk-container-id-1 div.sk-parallel-item::before {content: \"\";position: absolute;border-left: 1px solid gray;box-sizing: border-box;top: 0;bottom: 0;left: 50%;z-index: -1;}#sk-container-id-1 div.sk-parallel-item {display: flex;flex-direction: column;z-index: 1;position: relative;background-color: white;}#sk-container-id-1 div.sk-parallel-item:first-child::after {align-self: flex-end;width: 50%;}#sk-container-id-1 div.sk-parallel-item:last-child::after {align-self: flex-start;width: 50%;}#sk-container-id-1 div.sk-parallel-item:only-child::after {width: 0;}#sk-container-id-1 div.sk-dashed-wrapped {border: 1px dashed gray;margin: 0 0.4em 0.5em 0.4em;box-sizing: border-box;padding-bottom: 0.4em;background-color: white;}#sk-container-id-1 div.sk-label label {font-family: monospace;font-weight: bold;display: inline-block;line-height: 1.2em;}#sk-container-id-1 div.sk-label-container {text-align: center;}#sk-container-id-1 div.sk-container {/* jupyter's `normalize.less` sets `[hidden] { display: none; }` but bootstrap.min.css set `[hidden] { display: none !important; }` so we also need the `!important` here to be able to override the default hidden behavior on the sphinx rendered scikit-learn.org. See: https://github.com/scikit-learn/scikit-learn/issues/21755 */display: inline-block !important;position: relative;}#sk-container-id-1 div.sk-text-repr-fallback {display: none;}</style><div id=\"sk-container-id-1\" class=\"sk-top-container\"><div class=\"sk-text-repr-fallback\"><pre>NearestNeighbors(metric=&#x27;cosine&#x27;, n_neighbors=10)</pre><b>In a Jupyter environment, please rerun this cell to show the HTML representation or trust the notebook. <br />On GitHub, the HTML representation is unable to render, please try loading this page with nbviewer.org.</b></div><div class=\"sk-container\" hidden><div class=\"sk-item\"><div class=\"sk-estimator sk-toggleable\"><input class=\"sk-toggleable__control sk-hidden--visually\" id=\"sk-estimator-id-1\" type=\"checkbox\" checked><label for=\"sk-estimator-id-1\" class=\"sk-toggleable__label sk-toggleable__label-arrow\">NearestNeighbors</label><div class=\"sk-toggleable__content\"><pre>NearestNeighbors(metric=&#x27;cosine&#x27;, n_neighbors=10)</pre></div></div></div></div></div>"
            ]
          },
          "metadata": {},
          "execution_count": 11
        }
      ]
    },
    {
      "cell_type": "markdown",
      "source": [
        "Протестируем векторизатор, какую информацию использует наша модель для извлечения вектора?"
      ],
      "metadata": {
        "id": "vhpgbjNq7rKR"
      }
    },
    {
      "cell_type": "code",
      "source": [
        "def transform_text(vectorizer, text):\n",
        "    '''\n",
        "    Печать текста и вектора[TF-IDF]\n",
        "    векторизатор: sklearn.vectorizer\n",
        "    текст: str\n",
        "    '''\n",
        "    print('Текст:', text)\n",
        "    vector = vectorizer.transform([text])\n",
        "    vector = vectorizer.inverse_transform(vector)\n",
        "    print('Вектор:', vector)"
      ],
      "metadata": {
        "id": "X5YYttfG6-0A"
      },
      "execution_count": 12,
      "outputs": []
    },
    {
      "cell_type": "code",
      "source": [
        "# векторизация вопроса\n",
        "transform_text(embedding, question)"
      ],
      "metadata": {
        "colab": {
          "base_uri": "https://localhost:8080/"
        },
        "id": "WA0ZIQ8K8M6-",
        "outputId": "0d6b3b58-2ecb-4678-ae34-a2eb055d0f39"
      },
      "execution_count": 13,
      "outputs": [
        {
          "output_type": "stream",
          "name": "stdout",
          "text": [
            "Текст: What are the tourist hotspots in Portugal?\n",
            "Вектор: [array(['tourist', 'portugal'], dtype='<U18')]\n"
          ]
        }
      ]
    },
    {
      "cell_type": "markdown",
      "source": [
        "Какой документ наиболее похож на этот вопрос?"
      ],
      "metadata": {
        "id": "JmVQ3xvU90Qs"
      }
    },
    {
      "cell_type": "code",
      "source": [
        "# предсказываем наиболее похожий документ\n",
        "X = embedding.transform([question])\n",
        "c_id = retriever.kneighbors(X, return_distance=False)[0][0]\n",
        "selected = documents.iloc[c_id]['context']\n",
        "\n",
        "# векторизация документа\n",
        "transform_text(embedding, selected)"
      ],
      "metadata": {
        "colab": {
          "base_uri": "https://localhost:8080/"
        },
        "id": "8xi3CNd19qLD",
        "outputId": "66883c36-5d28-489f-8502-11c7508b950a"
      },
      "execution_count": 14,
      "outputs": [
        {
          "output_type": "stream",
          "name": "stdout",
          "text": [
            "Текст: The two largest metropolitan areas have subway systems: Lisbon Metro and Metro Sul do Tejo in the Lisbon Metropolitan Area and Porto Metro in the Porto Metropolitan Area, each with more than 35 km (22 mi) of lines. In Portugal, Lisbon tram services have been supplied by the Companhia de Carris de Ferro de Lisboa (Carris), for over a century. In Porto, a tram network, of which only a tourist line on the shores of the Douro remain, began construction on 12 September 1895 (a first for the Iberian Peninsula). All major cities and towns have their own local urban transport network, as well as taxi services.\n",
            "Вектор: [array(['urban', 'transport', 'towns', 'tourist', 'systems', 'supplied',\n",
            "       'subway', 'shores', 'services', 'september', 'remain', 'portugal',\n",
            "       'porto', 'peninsula', 'network', 'mi', 'metropolitan', 'metro',\n",
            "       'major', 'local', 'lisbon', 'lines', 'line', 'largest', 'km',\n",
            "       'iberian', 'construction', 'cities', 'century', 'began', 'areas',\n",
            "       'area', '35', '22', '1895', '12'], dtype='<U18')]\n"
          ]
        }
      ]
    },
    {
      "cell_type": "code",
      "source": [
        "# делаем прогноз\n",
        "X = embedding.transform(data['question'])\n",
        "y_test = data['c_id']\n",
        "y_pred = retriever.kneighbors(X, return_distance=False)"
      ],
      "metadata": {
        "id": "60TZxyKc-I_k"
      },
      "execution_count": 15,
      "outputs": []
    },
    {
      "cell_type": "code",
      "source": [
        "# лучшие документы, предсказанные для каждого вопроса\n",
        "y_pred"
      ],
      "metadata": {
        "colab": {
          "base_uri": "https://localhost:8080/"
        },
        "id": "bdaGgyLf_ZKd",
        "outputId": "24ce1ade-bd48-45b1-a02a-5f8c6209b1ce"
      },
      "execution_count": 17,
      "outputs": [
        {
          "output_type": "execute_result",
          "data": {
            "text/plain": [
              "array([[    0,  3694, 10613, ..., 17590,  6913,  6912],\n",
              "       [    7,  1469,     2, ...,    29, 14201,    17],\n",
              "       [   38,  1469, 14152, ...,    28,     7, 14201],\n",
              "       ...,\n",
              "       [18890, 18884, 18836, ..., 12302, 18837,  4200],\n",
              "       [18890,  3537, 18841, ..., 16014, 18884, 10882],\n",
              "       [12592, 12591, 12598, ..., 12593, 12600, 12588]])"
            ]
          },
          "metadata": {},
          "execution_count": 17
        }
      ]
    },
    {
      "cell_type": "code",
      "source": [
        "def top_accuracy(y_true, y_pred) -> float:\n",
        "    right, count = 0, 0\n",
        "    for i, y_t in enumerate(y_true):\n",
        "        count += 1\n",
        "        if y_t in y_pred[i]:\n",
        "            right += 1\n",
        "    return right / count if count > 0 else 0"
      ],
      "metadata": {
        "id": "dnz3GGji_ms3"
      },
      "execution_count": 18,
      "outputs": []
    },
    {
      "cell_type": "code",
      "source": [
        "# Достигнутая точность\n",
        "acc = top_accuracy(y_test, y_pred)\n",
        "print('Accuracy:', f'{acc:.4f}')\n",
        "print('Quantity:', int(acc*len(y_pred)), 'from', len(y_pred))"
      ],
      "metadata": {
        "colab": {
          "base_uri": "https://localhost:8080/"
        },
        "id": "os95Nz5y_0-f",
        "outputId": "529660a2-ca02-4279-bb86-ae7d22916a4b"
      },
      "execution_count": 19,
      "outputs": [
        {
          "output_type": "stream",
          "name": "stdout",
          "text": [
            "Accuracy: 0.7148\n",
            "Quantity: 62615 from 87599\n"
          ]
        }
      ]
    },
    {
      "cell_type": "markdown",
      "source": [
        "TF-IDF определенно имеет несколько проблем:\n",
        "\n",
        "этот алгоритм способен вычислять сходство только между вопросами и документами, в которых встречаются одинаковые слова, поэтому он не может улавливать синонимы.\n",
        "\n",
        "А так же он не может понять значение слов.\n",
        "\n",
        "К тому же нам пришлось возвращать в ответ на вопрос список из нескольких документов.\n",
        "\n",
        "\n",
        "\n",
        "Впрочем, так или иначе, мы достигли довольно неплохой точности в 71%.\n",
        "\n",
        "К преимуществам данного способа можно записать скорость."
      ],
      "metadata": {
        "id": "GAzChenBELZ6"
      }
    },
    {
      "cell_type": "code",
      "source": [
        "# функции для финального использования QA системы\n",
        "def pred_top1_answer(question):\n",
        "  '''\n",
        "  Печатает топ-1 документ, совпадающий с нашим вопросом.\n",
        "  '''\n",
        "  X = embedding.transform([question])\n",
        "  c_id = retriever.kneighbors(X, return_distance=False)[0][0]\n",
        "  selected = documents.iloc[c_id]['context']\n",
        "\n",
        "  print(selected)\n",
        "\n",
        "def pred_top10_answers(question):\n",
        "  '''\n",
        "  Печатает топ-10 документов, совпадающих с нашим вопросом.\n",
        "  '''\n",
        "  X = embedding.transform([question])\n",
        "  answers = retriever.kneighbors(X, return_distance=False)[0]\n",
        "  count = 0\n",
        "  for answer in answers:\n",
        "    count += 1\n",
        "    print(count, documents.iloc[answer]['context'], '\\n')"
      ],
      "metadata": {
        "id": "ifBvfqg6ST6j"
      },
      "execution_count": 24,
      "outputs": []
    },
    {
      "cell_type": "code",
      "source": [
        "# Финальная демонстрация работы QA системы\n",
        "\n",
        "question = 'How did the Cold War start?'\n",
        "\n",
        "pred_top1_answer(question)"
      ],
      "metadata": {
        "colab": {
          "base_uri": "https://localhost:8080/"
        },
        "id": "njFrzUin5eC4",
        "outputId": "71abadfc-3096-4527-f47f-af5886eb0ee8"
      },
      "execution_count": 29,
      "outputs": [
        {
          "output_type": "stream",
          "name": "stdout",
          "text": [
            "During the Cold War, a principal focus of Canadian defence policy was contributing to the security of Europe in the face of the Soviet military threat. Toward that end, Canadian ground and air forces were based in Europe from the early 1950s until the early 1990s.\n"
          ]
        }
      ]
    },
    {
      "cell_type": "code",
      "source": [
        "pred_top10_answers(question)"
      ],
      "metadata": {
        "colab": {
          "base_uri": "https://localhost:8080/"
        },
        "id": "dfhmjq_b-wkX",
        "outputId": "a662fa97-7598-4732-dfc2-4f40b659175b"
      },
      "execution_count": 30,
      "outputs": [
        {
          "output_type": "stream",
          "name": "stdout",
          "text": [
            "1 During the Cold War, a principal focus of Canadian defence policy was contributing to the security of Europe in the face of the Soviet military threat. Toward that end, Canadian ground and air forces were based in Europe from the early 1950s until the early 1990s. \n",
            "\n",
            "2 Tito was notable for pursuing a foreign policy of neutrality during the Cold War and for establishing close ties with developing countries. Tito's strong belief in self-determination caused early rift with Stalin and consequently, the Eastern Bloc. His public speeches often reiterated that policy of neutrality and cooperation with all countries would be natural as long as these countries did not use their influence to pressure Yugoslavia to take sides. Relations with the United States and Western European nations were generally cordial. \n",
            "\n",
            "3 However, since the end of the Cold War, as the North Atlantic Treaty Organization (NATO) has moved much of its defence focus \"out of area\", the Canadian military has also become more deeply engaged in international security operations in various other parts of the world – most notably in Afghanistan since 2002. \n",
            "\n",
            "4 Kennedy ultimately decided to pursue what became the Apollo program, and on May 25 took the opportunity to ask for Congressional support in a Cold War speech titled \"Special Message on Urgent National Needs\". Full text  \n",
            "\n",
            "5 In May 1972, President Richard M. Nixon and Soviet Premier Leonid Brezhnev negotiated an easing of relations known as detente, creating a temporary \"thaw\" in the Cold War. In the spirit of good sportsmanship, the time seemed right for cooperation rather than competition, and the notion of a continuing \"race\" began to subside. \n",
            "\n",
            "6 In the first post war years Tito was widely considered a communist leader very loyal to Moscow, indeed, he was often viewed as second only to Stalin in the Eastern Bloc. In fact, Stalin and Tito had an uneasy alliance from the start, with Stalin considering Tito too independent. \n",
            "\n",
            "7 For 36 years, NATO and the Warsaw Pact never directly waged war against each other in Europe; the United States and the Soviet Union and their respective allies implemented strategic policies aimed at the containment of each other in Europe, while working and fighting for influence within the wider Cold War on the international stage. \n",
            "\n",
            "8 AAA battalions were also used to help suppress ground targets. Their larger 90 mm M3 gun would prove, as did the eighty-eight, to make an excellent anti-tank gun as well, and was widely used late in the war in this role. Also available to the Americans at the start of the war was the 120 mm M1 gun stratosphere gun, which was the most powerful AA gun with an impressive 60,000 ft (18 km) altitude capability. No 120 M1 was ever fired at an enemy aircraft. The 90 mm and 120 mm guns would continue to be used into the 1950s. \n",
            "\n",
            "9 The Korean War (in South Korean Hangul: 한국전쟁, Hanja: 韓國戰爭, Hanguk Jeonjaeng, \"Korean War\"; in North Korean Chosungul: 조국해방전쟁, Joguk Haebang Jeonjaeng, \"Fatherland Liberation War\"; 25 June 1950 – 27 July 1953)[a] was started when North Korea invaded South Korea. The United Nations, with United States as the principal force, came to aid of South Korea. China, along with assistance from Soviet Union, came to aid of North Korea. The war arose from the division of Korea at the end of World War II and from the global tensions of the Cold War that developed immediately afterwards. \n",
            "\n",
            "10 Dannatt criticised a remnant \"Cold War mentality\", with military expenditures based on retaining a capability against a direct conventional strategic threat; He said currently only 10% of the MoD's equipment programme budget between 2003 and 2018 was to be invested in the \"land environment\"—at a time when Britain was engaged in land-based wars in Afghanistan and Iraq. \n",
            "\n"
          ]
        }
      ]
    }
  ]
}