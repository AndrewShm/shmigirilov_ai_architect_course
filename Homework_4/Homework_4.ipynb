{
  "nbformat": 4,
  "nbformat_minor": 0,
  "metadata": {
    "colab": {
      "provenance": []
    },
    "kernelspec": {
      "name": "python3",
      "display_name": "Python 3"
    },
    "language_info": {
      "name": "python"
    }
  },
  "cells": [
    {
      "cell_type": "code",
      "execution_count": null,
      "metadata": {
        "colab": {
          "base_uri": "https://localhost:8080/"
        },
        "id": "B7GMQFxdiX-I",
        "outputId": "a142e0fa-fb85-4156-81b0-bd8821961936"
      },
      "outputs": [
        {
          "output_type": "stream",
          "name": "stdout",
          "text": [
            "A+2B=\n",
            "[[7 0]\n",
            " [0 1]\n",
            " [5 9]]\n",
            "\n",
            "B+2C=\n",
            "[[-1  5]\n",
            " [ 1 -2]\n",
            " [ 4  8]]\n"
          ]
        }
      ],
      "source": [
        "# Задача 1\n",
        "\n",
        "import numpy as np\n",
        "\n",
        "A = np.array([[1, 2, 1], [-2, 1, 1]])\n",
        "B = np.array([[3, 1], [-1, 0], [2, 4]])\n",
        "C = np.array([[-2, 2], [1, -1], [1, 2]])\n",
        "A = A.transpose()\n",
        "\n",
        "result_1 = A + 2 * B\n",
        "result_2 = B + 2 * C\n",
        "print('A+2B=' + '\\n' + str(result_1), 'B+2C=' + '\\n' + str(result_2), sep='\\n\\n')"
      ]
    },
    {
      "cell_type": "code",
      "source": [
        "# Задача 2\n",
        "\n",
        "import numpy as np\n",
        "\n",
        "matrix = np.zeros((8, 8), dtype=int)\n",
        "matrix[1::2, ::2] = 1\n",
        "matrix[::2, 1::2] = 1\n",
        "print(matrix)"
      ],
      "metadata": {
        "colab": {
          "base_uri": "https://localhost:8080/"
        },
        "id": "l41iS1n7UoQl",
        "outputId": "0658685f-4b90-4640-fa6a-61631dc322fd"
      },
      "execution_count": null,
      "outputs": [
        {
          "output_type": "stream",
          "name": "stdout",
          "text": [
            "[[0 1 0 1 0 1 0 1]\n",
            " [1 0 1 0 1 0 1 0]\n",
            " [0 1 0 1 0 1 0 1]\n",
            " [1 0 1 0 1 0 1 0]\n",
            " [0 1 0 1 0 1 0 1]\n",
            " [1 0 1 0 1 0 1 0]\n",
            " [0 1 0 1 0 1 0 1]\n",
            " [1 0 1 0 1 0 1 0]]\n"
          ]
        }
      ]
    },
    {
      "cell_type": "code",
      "source": [
        "# Задача 3\n",
        "\n",
        "import numpy as np\n",
        "\n",
        "vector_1 = np.arange(0, 1.5, 0.1)\n",
        "vector_2 = np.arange(1, 7)\n",
        "\n",
        "matrix_1 = vector_1.reshape(5, 3)\n",
        "print('matrix_1:', matrix_1, sep='\\n', end='\\n\\n')\n",
        "\n",
        "matrix_2 = vector_2.reshape(3, 2)\n",
        "print('matrix_2:', matrix_2, sep='\\n', end='\\n\\n')\n",
        "\n",
        "mul_matrix = matrix_1 @ matrix_2\n",
        "print('mul_matrix:', mul_matrix, sep='\\n', end='\\n\\n')"
      ],
      "metadata": {
        "colab": {
          "base_uri": "https://localhost:8080/"
        },
        "id": "fIEx9bYPjFRm",
        "outputId": "b7a9a8c1-ef23-4348-e6dd-36036a9b3c16"
      },
      "execution_count": null,
      "outputs": [
        {
          "output_type": "stream",
          "name": "stdout",
          "text": [
            "matrix_1:\n",
            "[[0.  0.1 0.2]\n",
            " [0.3 0.4 0.5]\n",
            " [0.6 0.7 0.8]\n",
            " [0.9 1.  1.1]\n",
            " [1.2 1.3 1.4]]\n",
            "\n",
            "matrix_2:\n",
            "[[1 2]\n",
            " [3 4]\n",
            " [5 6]]\n",
            "\n",
            "mul_matrix:\n",
            "[[ 1.3  1.6]\n",
            " [ 4.   5.2]\n",
            " [ 6.7  8.8]\n",
            " [ 9.4 12.4]\n",
            " [12.1 16. ]]\n",
            "\n"
          ]
        }
      ]
    },
    {
      "cell_type": "code",
      "source": [
        "# Задача 4\n",
        "\n",
        "import numpy as np\n",
        "\n",
        "vector_a = np.arange(1, 73, 2)\n",
        "vector_a1 = np.full(36, vector_a, dtype=np.int32)\n",
        "print('Исходный вектор:', vector_a1, end='\\n\\n')\n",
        "\n",
        "vector_b = vector_a1[1::3]\n",
        "print('Вектор из исходного со значениями, кратными 3:', vector_b)\n"
      ],
      "metadata": {
        "colab": {
          "base_uri": "https://localhost:8080/"
        },
        "id": "MdllGOCZRAQ2",
        "outputId": "0e87c2d5-055f-4f8c-e4e0-1560499865ee"
      },
      "execution_count": null,
      "outputs": [
        {
          "output_type": "stream",
          "name": "stdout",
          "text": [
            "Исходный вектор: [ 1  3  5  7  9 11 13 15 17 19 21 23 25 27 29 31 33 35 37 39 41 43 45 47\n",
            " 49 51 53 55 57 59 61 63 65 67 69 71]\n",
            "\n",
            "Вектор из исходного со значениями, кратными 3: [ 3  9 15 21 27 33 39 45 51 57 63 69]\n"
          ]
        }
      ]
    },
    {
      "cell_type": "code",
      "source": [],
      "metadata": {
        "id": "-FXv4XGoklXW"
      },
      "execution_count": null,
      "outputs": []
    }
  ]
}